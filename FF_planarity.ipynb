{
 "cells": [
  {
   "cell_type": "code",
   "execution_count": 1,
   "metadata": {},
   "outputs": [],
   "source": [
    "import sys\n",
    "import numpy as np\n",
    "import matplotlib.pyplot as plt\n",
    "\n",
    "sys.path.append('unfolding/')\n",
    "from Application_functions import *\n",
    "from geometry_functions import *\n",
    "from functions_folding import *\n",
    "\n",
    "from Unfolding import *\n",
    "\n",
    "bond_angles = np.radians(np.array([108.,120.]))\n",
    "bonding_lengths = np.array([1.458,1.401])"
   ]
  },
  {
   "cell_type": "code",
   "execution_count": 2,
   "metadata": {},
   "outputs": [
    {
     "name": "stdout",
     "output_type": "stream",
     "text": [
      "Loaded unfoldings for isomer C60-[GS:1,7,9,11,13,15,18,20,22,24,26,32]-fullerene.\n"
     ]
    }
   ],
   "source": [
    "unfolding_filename = './unfolding/C60unfolding.npz'\n",
    "unfolding_number = 0\n",
    "\n",
    "f = np.load(unfolding_filename,allow_pickle=True)    \n",
    "arcpos      = f['Arcpos'][unfolding_number]\n",
    "pentagon_ix = f['Pentagon_ix'][unfolding_number]\n",
    "path        = f['Paths'][unfolding_number]\n",
    "isomer      = dict(zip(f['isomer_keys'][:], f['isomer_values'][:]))\n",
    "root_node   = path[0,0,0]\n",
    "\n",
    "print(f\"Loaded unfoldings for isomer {isomer['name']}.\")\n",
    "dual_neighbours  = isomer['dual_neighbours']\n",
    "cubic_neighbours = isomer['cubic_neighbours']\n",
    "hexagons         = isomer['hexagons']\n",
    "pentagons        = isomer['pentagons']\n",
    "triangles        = isomer['triangles']\n",
    "\n",
    "unfolding_subgraph = arcpos_to_unfolding(dual_neighbours,arcpos)\n",
    "faces = faces_from_hp(dual_neighbours, hexagons, pentagons)"
   ]
  },
  {
   "cell_type": "code",
   "execution_count": 11,
   "metadata": {},
   "outputs": [
    {
     "name": "stdout",
     "output_type": "stream",
     "text": [
      "Using matplotlib backend: Qt5Agg\n"
     ]
    }
   ],
   "source": [
    "%matplotlib\n",
    "dual_unfolding, graph_unfolding, graph_unfolding_faces, vertices_final, bonds_toBe, lengths_toBe, angles_f, opt_geom, halogen_positions, neighbours, graph_faces = read_unfolding(\"./data/unfolding_graph/C60data.h5\")\n",
    "#C60 = Unfolding(dual_unfolding, graph_unfolding_faces, graph_faces, graph_unfolding, neighbours, halogen_positions=halogen_positions, root_node=0, bonds_toBe=bonds_toBe, angles_f=angles_f);\n",
    "#plot_graph_3D(C60)\n"
   ]
  },
  {
   "cell_type": "code",
   "execution_count": 6,
   "metadata": {},
   "outputs": [
    {
     "data": {
      "text/plain": [
       "[[3, 1],\n",
       " [8, 6, 0],\n",
       " [],\n",
       " [11, 0],\n",
       " [],\n",
       " [],\n",
       " [15, 1],\n",
       " [],\n",
       " [18, 1],\n",
       " [],\n",
       " [],\n",
       " [21, 20, 3],\n",
       " [],\n",
       " [24, 23],\n",
       " [],\n",
       " [6, 24],\n",
       " [],\n",
       " [],\n",
       " [8, 27],\n",
       " [],\n",
       " [11, 21],\n",
       " [20, 11],\n",
       " [],\n",
       " [24, 13],\n",
       " [15, 23, 13],\n",
       " [],\n",
       " [27, 31],\n",
       " [18, 31, 26],\n",
       " [],\n",
       " [],\n",
       " [],\n",
       " [27, 26]]"
      ]
     },
     "execution_count": 6,
     "metadata": {},
     "output_type": "execute_result"
    }
   ],
   "source": [
    "unfolding_subgraph"
   ]
  },
  {
   "cell_type": "code",
   "execution_count": 12,
   "metadata": {},
   "outputs": [],
   "source": [
    "# dual_unfolding                list of lists;      is unfolding_subgraph\n",
    "# graph_unfolding_faces         list of lists;      are the faces formed in the unfolding\n",
    "# graph_faces                   list of lists;      are all the faces of the closed fullerene \n",
    "# graph_unfolding               list of lists;      the graph with the cut bonds removed from the neighbour lists\n",
    "# neighbours                    n by 3 array;       full cubic graph\n",
    "# halogen_positions             n_perhiphery array; array with the length of the total periphery inidacting the bonded atom type: H = 0; Cl = 1; F = 2\n",
    "# bonds_toBe                    i by 2 array;       array with the atom indices which will need to form a bond\n",
    "# angles_f                      n_facec array;      array with the final angles of the faces "
   ]
  },
  {
   "cell_type": "code",
   "execution_count": 29,
   "metadata": {},
   "outputs": [],
   "source": [
    "bonds_toBe          = [[1],[0],[]]\n",
    "n_removed_bonds     = sum([bonds != [] for bonds in bonds_toBe])\n",
    "bonds               = np.empty([n_removed_bonds,2])"
   ]
  },
  {
   "cell_type": "code",
   "execution_count": null,
   "metadata": {},
   "outputs": [],
   "source": [
    "Unfolding(unfolding_subgraph, graph_unfolding_faces, graph_faces, graph_unfolding, neighbours, halogen_positions=halogen_positions, root_node=0, bonds_toBe=bonds_toBe, angles_f=angles_f)\n"
   ]
  }
 ],
 "metadata": {
  "interpreter": {
   "hash": "31f2aee4e71d21fbe5cf8b01ff0e069b9275f58929596ceb00d14d90e3e16cd6"
  },
  "kernelspec": {
   "display_name": "Python 3.8.10 64-bit",
   "language": "python",
   "name": "python3"
  },
  "language_info": {
   "codemirror_mode": {
    "name": "ipython",
    "version": 3
   },
   "file_extension": ".py",
   "mimetype": "text/x-python",
   "name": "python",
   "nbconvert_exporter": "python",
   "pygments_lexer": "ipython3",
   "version": "3.8.10"
  },
  "orig_nbformat": 4
 },
 "nbformat": 4,
 "nbformat_minor": 2
}
