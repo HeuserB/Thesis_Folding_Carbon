{
 "cells": [
  {
   "cell_type": "code",
   "execution_count": 1,
   "metadata": {},
   "outputs": [],
   "source": [
    "import numpy as np\n",
    "import matplotlib.pyplot as plt\n",
    "import sys\n",
    "import pandas as pd\n",
    "import h5py\n",
    "import os\n",
    "import shutil\n",
    "\n",
    "#sys.path.append(\"../../W_KU/Fullerene/Thesis_Folding_Carbon/data/C60_closing/\")\n",
    "sys.path.append(\"unfolding/\")\n",
    "sys.path.append(\"src/electronic_structure/GAUSSIAN/\")\n",
    "#sys.path.append(\"../thesis-carbon-folding/functions\")\n",
    "#sys.path.append(\"../thesis-carbon-folding/Unfolding/Application_functions\")\n",
    "#sys.path.append(\"../results/hdf5/\")\n",
    "#sys.path.append(\"../fullerene-unfolding/\")\n",
    "\n",
    "from Application_functions import read_unfolding, fit_all_planes, read_geometry\n",
    "from geometry_functions import detect_minimal_distance\n",
    "from Unfolding import Unfolding\n",
    "from functions_folding import *\n",
    "from interpolation import interpolated_values\n",
    "\n",
    "dual_unfolding, graph_unfolding, graph_unfolding_faces, vertices_final, bonds_toBe, lengths_toBe, angles_f, opt_geom, halogen_positions, neighbours, graph_faces = read_unfolding(\"data/unfolding_graph/C60data.h5\")\n",
    "\n",
    "f = open(\"data/header/header_cam-b3lyp_6-31star\")\n",
    "header_b3lyp = f.read()\n",
    "f.close()\n"
   ]
  },
  {
   "cell_type": "code",
   "execution_count": 2,
   "metadata": {},
   "outputs": [
    {
     "name": "stdout",
     "output_type": "stream",
     "text": [
      "root_node = 0, root_face = [0, 1, 2, 3, 4, 5]\n",
      "dual hinges:  [[0, 1], [0, 2], [0, 3], [1, 4], [1, 5], [2, 6], [2, 7], [3, 8], [3, 9], [4, 10], [6, 11], [8, 12], [10, 13], [11, 14], [12, 15]]\n",
      "cubic hinges: [[0, 1], [2, 3], [4, 5], [6, 7], [7, 8], [9, 10], [10, 11], [12, 13], [13, 14], [16, 17], [23, 24], [30, 31], [38, 39], [42, 43], [46, 47]]\n",
      "\n"
     ]
    },
    {
     "data": {
      "text/plain": [
       "[[1, 2, 3],\n",
       " [0, 4, 5],\n",
       " [0, 6, 7],\n",
       " [0, 8, 9],\n",
       " [10, 5, 1],\n",
       " [4, 1],\n",
       " [11, 7, 2],\n",
       " [2, 6],\n",
       " [9, 3, 12],\n",
       " [3, 8],\n",
       " [13, 4],\n",
       " [14, 6],\n",
       " [15, 8],\n",
       " [10],\n",
       " [11],\n",
       " [12]]"
      ]
     },
     "execution_count": 2,
     "metadata": {},
     "output_type": "execute_result"
    }
   ],
   "source": [
    "C60 = Unfolding(dual_unfolding, graph_unfolding_faces, graph_faces, graph_unfolding, neighbours, halogen_positions=halogen_positions, root_node=0, bonds_toBe=bonds_toBe, angles_f=angles_f)\n",
    "#C60.vertex_coords = geometry\n",
    "dual_unfolding"
   ]
  },
  {
   "cell_type": "code",
   "execution_count": 3,
   "metadata": {},
   "outputs": [
    {
     "name": "stderr",
     "output_type": "stream",
     "text": [
      "<ipython-input-3-e3c84e860eef>:5: FutureWarning: Using a non-tuple sequence for multidimensional indexing is deprecated; use `arr[tuple(seq)]` instead of `arr[seq]`. In the future this will be interpreted as an array index, `arr[np.array(seq)]`, which will result either in an error or a different result.\n",
      "  hinge_midpoints = np.sum(vertices_final[[tuple(C60.hinges[1])]],axis=-2) / 2.\n",
      "<ipython-input-3-e3c84e860eef>:6: FutureWarning: Using a non-tuple sequence for multidimensional indexing is deprecated; use `arr[tuple(seq)]` instead of `arr[seq]`. In the future this will be interpreted as an array index, `arr[np.array(seq)]`, which will result either in an error or a different result.\n",
      "  hinge_legs = final_midpoints[[tuple(C60.hinges[0])]] - np.repeat(hinge_midpoints[:,np.newaxis,:],2,axis=-2)\n"
     ]
    },
    {
     "data": {
      "text/plain": [
       "array([2.5955979 , 2.4276571 , 2.50785662, 2.55271646, 2.3441409 ,\n",
       "       2.11918261, 2.23697286, 2.01994506, 1.84588853, 2.02863597,\n",
       "       1.79434646, 1.96318077, 2.06734565, 2.2298488 , 2.2382968 ])"
      ]
     },
     "execution_count": 3,
     "metadata": {},
     "output_type": "execute_result"
    }
   ],
   "source": [
    "def calculate_final_angles(vertices_final,graph_unfolding_faces, hinges):\n",
    "    final_midpoints = np.zeros([len(graph_unfolding_faces),3])\n",
    "    for faceId, face in enumerate(graph_unfolding_faces):\n",
    "        final_midpoints[faceId] = np.sum(vertices_final[face],axis=-2)\n",
    "\n",
    "    hinge_midpoints = np.sum(vertices_final[[tuple(hinges[1])]],axis=-2) / 2.\n",
    "    hinge_legs = final_midpoints[[tuple(hinges[0])]] - np.repeat(hinge_midpoints[:,np.newaxis,:],2,axis=-2)\n",
    "    angles = np.pi - angle_vec(hinge_legs[:,0,:],hinge_legs[:,1,:],degrees=False)\n",
    "    return angles"
   ]
  },
  {
   "cell_type": "code",
   "execution_count": 4,
   "metadata": {},
   "outputs": [],
   "source": [
    "def graph_from_final_geometry(vertices_final):\n",
    "    graph = np.zeros_like(vertices_final,dtype=int)\n",
    "    distances = np.zeros([len(vertices_final),len(vertices_final)])\n",
    "    distances[0,0] = 1e3\n",
    "    for i in range(len(vertices_final)):\n",
    "        for j in range(i):\n",
    "            distances[i,j] = np.sqrt(np.sum((vertices_final[i] - vertices_final[j])**2))\n",
    "            distances[j,i] = distances[i,j]\n",
    "            distances[i,i] = 1e3\n",
    "    for i in range(len(vertices_final)):\n",
    "        graph[i] = np.argsort(distances[i])[:3]\n",
    "    return graph"
   ]
  },
  {
   "cell_type": "code",
   "execution_count": 5,
   "metadata": {},
   "outputs": [
    {
     "data": {
      "text/plain": [
       "array([2.82324916, 2.60066408, 2.72332814, 2.5831659 , 2.26439429,\n",
       "       0.85688439, 2.41168656, 1.81574428, 2.07556686, 1.21240265,\n",
       "       1.66691542, 1.5519155 , 2.17150802, 2.40932837, 0.91323892])"
      ]
     },
     "execution_count": 5,
     "metadata": {},
     "output_type": "execute_result"
    }
   ],
   "source": [
    "from geometry_functions import mean_normal\n",
    "X = vertices_final\n",
    "closed_normals = np.zeros((len(graph_unfolding_faces),3),dtype=float)\n",
    "closed_normals[C60.face_type[0]] = mean_normal(X, C60.pentagons)\n",
    "closed_normals[C60.face_type[1]] = mean_normal(X, C60.hexagons)\n",
    "angles_final = [angle_vec(closed_normals[u],closed_normals[v],degrees=False) for u,v in C60.hinges[0]]\n",
    "np.pi - np.array(angles_final)"
   ]
  },
  {
   "cell_type": "code",
   "execution_count": null,
   "metadata": {},
   "outputs": [],
   "source": []
  }
 ],
 "metadata": {
  "kernelspec": {
   "display_name": "Python 3",
   "language": "python",
   "name": "python3"
  },
  "language_info": {
   "codemirror_mode": {
    "name": "ipython",
    "version": 3
   },
   "file_extension": ".py",
   "mimetype": "text/x-python",
   "name": "python",
   "nbconvert_exporter": "python",
   "pygments_lexer": "ipython3",
   "version": "3.8.10"
  }
 },
 "nbformat": 4,
 "nbformat_minor": 4
}
