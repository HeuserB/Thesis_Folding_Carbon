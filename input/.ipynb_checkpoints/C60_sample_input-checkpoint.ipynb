{
 "cells": [
  {
   "cell_type": "code",
   "execution_count": 1,
   "metadata": {},
   "outputs": [],
   "source": [
    "import sys\n",
    "import matplotlib.pyplot as plt\n",
    "\n",
    "\n",
    "#sys.path.append(\"../C_20_data\")\n",
    "#sys.path.append(\"../thesis-carbon-folding/Unfolding\")\n",
    "#sys.path.append(\"../thesis-carbon-folding/functions\")\n",
    "#sys.path.append(\"../thesis-carbon-folding/Unfolding/Application_functions\")\n",
    "#sys.path.append(\"../data/\")\n",
    "sys.path.append(\"../unfolding/\")\n",
    "\n",
    "from Application_functions import read_unfolding\n",
    "from read_geometries import read_geometry\n",
    "from geometry_functions import *\n",
    "\n",
    "dual_unfolding, graph_unfolding, graph_unfolding_faces, vertices_final, bonds_toBe, lengths_toBe, angles_f, opt_geom, halogen_positions, neighbours, graph_faces = read_unfolding(\"../data/unfolding_graph/C60data.h5\")\n",
    "#halogene_positions = np.array([20, 27, 34])\n",
    "from Unfolding import Unfolding\n",
    "from functions_folding import *\n",
    "from interpolation import interpolated_values\n",
    "import pandas as pd\n",
    "import h5py\n",
    "\n",
    "f = open(\"../data/header/header_cam-b3lyp_6-31star\", \"r\")\n",
    "header_cam_b3lyp = f.read()\n",
    "f.close()"
   ]
  },
  {
   "cell_type": "code",
   "execution_count": 2,
   "metadata": {},
   "outputs": [
    {
     "data": {
      "text/plain": [
       "'%nprocshared=64\\n%mem=100GB\\n# Opt=ReadFreeze cam-b3lyp/6-31g* empiricaldispersion=gd3\\n\\nPrecursor Fragment\\n\\n0 1\\n'"
      ]
     },
     "execution_count": 2,
     "metadata": {},
     "output_type": "execute_result"
    }
   ],
   "source": [
    "header_cam_b3lyp"
   ]
  },
  {
   "cell_type": "code",
   "execution_count": 3,
   "metadata": {},
   "outputs": [],
   "source": [
    "def three_dist(unfolding):\n",
    "    dist_a, dist_b, dist_c = np.linalg.norm(C60.vertex_coords[15] - C60.vertex_coords[35]) , np.linalg.norm(C60.vertex_coords[21] - C60.vertex_coords[22]), np.linalg.norm(C60.vertex_coords[28] - C60.vertex_coords[29])  \n",
    "    mean_dist = np.mean([dist_a,dist_b,dist_c])\n",
    "    return np.round(mean_dist,3)"
   ]
  },
  {
   "cell_type": "code",
   "execution_count": 4,
   "metadata": {},
   "outputs": [],
   "source": [
    "def sample_unfolding(unfolding, title_body=\"../C60_hinge_0_B3LYP\", header=header_cam_b3lyp , start=1.8, end=1.5, step = 0.05, epsilon=0.001,halogen=0):\n",
    "    sample_r = np.flip(np.arange(end, start, step))\n",
    "    ### Set the atoms that should be frozen ###\n",
    "    freeze_list = [15,21,22,28,29,35]\n",
    "    ### Set the carbon atoms where the halogens should be placed ###\n",
    "    atoms = [35, 15, 21, 22, 28, 29, 51, 19, 55, 26, 59, 33, 34, 36, 20, 40, 27, 44]\n",
    "    dist = three_dist(unfolding)\n",
    "    title = \"../\" + title_body + \"_\" + str(dist) +\"A\"\n",
    "    write_gaussfile_restart(unfolding, header, freeze=True, connectivity=False, writeFile=True, rotate=True, atoms=atoms, filename = title , freezelist = freeze_list, halogen=halogen, interpolated_angles=interpolated_values)\n",
    "    for _ in range(unfolding.num_of_steps):\n",
    "        unfolding.close_unfolding()\n",
    "        dist = three_dist(unfolding)\n",
    "        if np.linalg.norm(dist - sample_r[0]) < epsilon:\n",
    "            sample_r = np.delete(sample_r,0)\n",
    "            title = title_body + \"_\" + str(dist) +\"A\"\n",
    "            write_gaussfile_restart(unfolding, header, freeze=True, connectivity=False, writeFile=True, rotate=True, atoms=atoms, filename = title , freezelist = freeze_list, halogen=halogen, interpolated_angles=interpolated_values)\n",
    "            if len(sample_r) == 0:\n",
    "                return"
   ]
  },
  {
   "cell_type": "code",
   "execution_count": 5,
   "metadata": {},
   "outputs": [
    {
     "name": "stdout",
     "output_type": "stream",
     "text": [
      "root_node = 0, root_face = [0, 1, 2, 3, 4, 5]\n",
      "dual hinges:  [[0, 1], [0, 2], [0, 3], [1, 4], [1, 5], [2, 6], [2, 7], [3, 8], [3, 9], [4, 10], [6, 11], [8, 12], [10, 13], [11, 14], [12, 15]]\n",
      "cubic hinges: [[0, 1], [2, 3], [4, 5], [6, 7], [7, 8], [9, 10], [10, 11], [12, 13], [13, 14], [16, 17], [23, 24], [30, 31], [38, 39], [42, 43], [46, 47]]\n",
      "\n",
      "Drawing face 1: [0, 6, 7, 8, 1] connected by hinge 0: (0, 1)/(0, 1)\n",
      "missing_atoms = [6 7 8]\n",
      "Drawing face 2: [2, 9, 10, 11, 3] connected by hinge 1: (2, 3)/(0, 2)\n",
      "missing_atoms = [ 9 10 11]\n",
      "Drawing face 3: [5, 4, 12, 13, 14] connected by hinge 2: (4, 5)/(0, 3)\n",
      "missing_atoms = [12 13 14]\n",
      "Drawing face 4: [17, 18, 7, 6, 15, 16] connected by hinge 3: (6, 7)/(1, 4)\n",
      "missing_atoms = [15 16 17 18]\n",
      "Drawing face 5: [18, 19, 20, 21, 8, 7] connected by hinge 4: (7, 8)/(1, 5)\n",
      "missing_atoms = [18 19 20 21]\n",
      "Drawing face 6: [9, 22, 23, 24, 25, 10] connected by hinge 5: (9, 10)/(2, 6)\n",
      "missing_atoms = [22 23 24 25]\n",
      "Drawing face 7: [10, 25, 26, 27, 28, 11] connected by hinge 6: (10, 11)/(2, 7)\n",
      "missing_atoms = [25 26 27 28]\n",
      "Drawing face 8: [13, 12, 29, 30, 31, 32] connected by hinge 7: (12, 13)/(3, 8)\n",
      "missing_atoms = [29 30 31 32]\n",
      "Drawing face 9: [34, 35, 14, 13, 32, 33] connected by hinge 8: (13, 14)/(3, 9)\n",
      "missing_atoms = [32 33 34 35]\n",
      "Drawing face 10: [37, 38, 39, 17, 16, 36] connected by hinge 9: (16, 17)/(4, 10)\n",
      "missing_atoms = [36 37 38 39]\n",
      "Drawing face 11: [40, 41, 42, 43, 24, 23] connected by hinge 10: (23, 24)/(6, 11)\n",
      "missing_atoms = [40 41 42 43]\n",
      "Drawing face 12: [31, 30, 44, 45, 46, 47] connected by hinge 11: (30, 31)/(8, 12)\n",
      "missing_atoms = [44 45 46 47]\n",
      "Drawing face 13: [38, 48, 49, 50, 51, 39] connected by hinge 12: (38, 39)/(10, 13)\n",
      "missing_atoms = [48 49 50 51]\n",
      "Drawing face 14: [42, 52, 53, 54, 55, 43] connected by hinge 13: (42, 43)/(11, 14)\n",
      "missing_atoms = [52 53 54 55]\n",
      "Drawing face 15: [58, 59, 47, 46, 56, 57] connected by hinge 14: (46, 47)/(12, 15)\n",
      "missing_atoms = [56 57 58 59]\n"
     ]
    }
   ],
   "source": [
    "### Init unfolding and set the number of steps in which the angles are to be closed ###\n",
    "C60 = Unfolding(dual_unfolding, graph_unfolding_faces, graph_faces, graph_unfolding, neighbours, halogen_positions=halogen_positions, root_node=0, bonds_toBe=bonds_toBe, angles_f=angles_f)\n",
    "C60.num_of_steps = 20000"
   ]
  },
  {
   "cell_type": "code",
   "execution_count": 6,
   "metadata": {},
   "outputs": [
    {
     "ename": "KeyboardInterrupt",
     "evalue": "",
     "output_type": "error",
     "traceback": [
      "\u001b[0;31m---------------------------------------------------------------------------\u001b[0m",
      "\u001b[0;31mKeyboardInterrupt\u001b[0m                         Traceback (most recent call last)",
      "\u001b[0;32m<ipython-input-6-c004b70ad38a>\u001b[0m in \u001b[0;36m<module>\u001b[0;34m\u001b[0m\n\u001b[0;32m----> 1\u001b[0;31m \u001b[0msample_unfolding\u001b[0m\u001b[0;34m(\u001b[0m\u001b[0mC60\u001b[0m\u001b[0;34m,\u001b[0m\u001b[0mhalogen\u001b[0m\u001b[0;34m=\u001b[0m\u001b[0;36m1\u001b[0m\u001b[0;34m)\u001b[0m\u001b[0;34m\u001b[0m\u001b[0;34m\u001b[0m\u001b[0m\n\u001b[0m",
      "\u001b[0;32m<ipython-input-4-bcfb877787cc>\u001b[0m in \u001b[0;36msample_unfolding\u001b[0;34m(unfolding, title_body, header, start, end, step, epsilon, halogen)\u001b[0m\n\u001b[1;32m      9\u001b[0m     \u001b[0mwrite_gaussfile_restart\u001b[0m\u001b[0;34m(\u001b[0m\u001b[0munfolding\u001b[0m\u001b[0;34m,\u001b[0m \u001b[0mheader\u001b[0m\u001b[0;34m,\u001b[0m \u001b[0mfreeze\u001b[0m\u001b[0;34m=\u001b[0m\u001b[0;32mTrue\u001b[0m\u001b[0;34m,\u001b[0m \u001b[0mconnectivity\u001b[0m\u001b[0;34m=\u001b[0m\u001b[0;32mFalse\u001b[0m\u001b[0;34m,\u001b[0m \u001b[0mwriteFile\u001b[0m\u001b[0;34m=\u001b[0m\u001b[0;32mTrue\u001b[0m\u001b[0;34m,\u001b[0m \u001b[0mrotate\u001b[0m\u001b[0;34m=\u001b[0m\u001b[0;32mTrue\u001b[0m\u001b[0;34m,\u001b[0m \u001b[0matoms\u001b[0m\u001b[0;34m=\u001b[0m\u001b[0matoms\u001b[0m\u001b[0;34m,\u001b[0m \u001b[0mfilename\u001b[0m \u001b[0;34m=\u001b[0m \u001b[0mtitle\u001b[0m \u001b[0;34m,\u001b[0m \u001b[0mfreezelist\u001b[0m \u001b[0;34m=\u001b[0m \u001b[0mfreeze_list\u001b[0m\u001b[0;34m,\u001b[0m \u001b[0mhalogen\u001b[0m\u001b[0;34m=\u001b[0m\u001b[0mhalogen\u001b[0m\u001b[0;34m,\u001b[0m \u001b[0minterpolated_angles\u001b[0m\u001b[0;34m=\u001b[0m\u001b[0minterpolated_values\u001b[0m\u001b[0;34m)\u001b[0m\u001b[0;34m\u001b[0m\u001b[0;34m\u001b[0m\u001b[0m\n\u001b[1;32m     10\u001b[0m     \u001b[0;32mfor\u001b[0m \u001b[0m_\u001b[0m \u001b[0;32min\u001b[0m \u001b[0mrange\u001b[0m\u001b[0;34m(\u001b[0m\u001b[0munfolding\u001b[0m\u001b[0;34m.\u001b[0m\u001b[0mnum_of_steps\u001b[0m\u001b[0;34m)\u001b[0m\u001b[0;34m:\u001b[0m\u001b[0;34m\u001b[0m\u001b[0;34m\u001b[0m\u001b[0m\n\u001b[0;32m---> 11\u001b[0;31m         \u001b[0munfolding\u001b[0m\u001b[0;34m.\u001b[0m\u001b[0mclose_unfolding\u001b[0m\u001b[0;34m(\u001b[0m\u001b[0;34m)\u001b[0m\u001b[0;34m\u001b[0m\u001b[0;34m\u001b[0m\u001b[0m\n\u001b[0m\u001b[1;32m     12\u001b[0m         \u001b[0mdist\u001b[0m \u001b[0;34m=\u001b[0m \u001b[0mthree_dist\u001b[0m\u001b[0;34m(\u001b[0m\u001b[0munfolding\u001b[0m\u001b[0;34m)\u001b[0m\u001b[0;34m\u001b[0m\u001b[0;34m\u001b[0m\u001b[0m\n\u001b[1;32m     13\u001b[0m         \u001b[0;32mif\u001b[0m \u001b[0mnp\u001b[0m\u001b[0;34m.\u001b[0m\u001b[0mlinalg\u001b[0m\u001b[0;34m.\u001b[0m\u001b[0mnorm\u001b[0m\u001b[0;34m(\u001b[0m\u001b[0mdist\u001b[0m \u001b[0;34m-\u001b[0m \u001b[0msample_r\u001b[0m\u001b[0;34m[\u001b[0m\u001b[0;36m0\u001b[0m\u001b[0;34m]\u001b[0m\u001b[0;34m)\u001b[0m \u001b[0;34m<\u001b[0m \u001b[0mepsilon\u001b[0m\u001b[0;34m:\u001b[0m\u001b[0;34m\u001b[0m\u001b[0;34m\u001b[0m\u001b[0m\n",
      "\u001b[0;32m~/Nextcloud/Work/W_KU/Fullerene/Thesis_Folding_Carbon/input/../unfolding/Unfolding.py\u001b[0m in \u001b[0;36mclose_unfolding\u001b[0;34m(self)\u001b[0m\n\u001b[1;32m    332\u001b[0m                 \u001b[0;31m#step_size = self.angles_hinge[active_hinge] - self.angle_steps[self.stage + 1][active_hinge]\u001b[0m\u001b[0;34m\u001b[0m\u001b[0;34m\u001b[0m\u001b[0;34m\u001b[0m\u001b[0m\n\u001b[1;32m    333\u001b[0m                 \u001b[0mstep_size\u001b[0m \u001b[0;34m=\u001b[0m \u001b[0mself\u001b[0m\u001b[0;34m.\u001b[0m\u001b[0mstep_size\u001b[0m\u001b[0;34m[\u001b[0m\u001b[0mactive_hinge\u001b[0m\u001b[0;34m]\u001b[0m\u001b[0;34m\u001b[0m\u001b[0;34m\u001b[0m\u001b[0m\n\u001b[0;32m--> 334\u001b[0;31m                 \u001b[0maffected_children_periphery\u001b[0m \u001b[0;34m=\u001b[0m \u001b[0madd_periphery\u001b[0m\u001b[0;34m(\u001b[0m\u001b[0mself\u001b[0m\u001b[0;34m.\u001b[0m\u001b[0maffected_children\u001b[0m\u001b[0;34m,\u001b[0m \u001b[0mself\u001b[0m\u001b[0;34m.\u001b[0m\u001b[0mparent_atom\u001b[0m\u001b[0;34m,\u001b[0m \u001b[0mself\u001b[0m\u001b[0;34m.\u001b[0m\u001b[0mn_carbon\u001b[0m\u001b[0;34m)\u001b[0m\u001b[0;34m\u001b[0m\u001b[0;34m\u001b[0m\u001b[0m\n\u001b[0m\u001b[1;32m    335\u001b[0m                 \u001b[0mupdate_transform\u001b[0m\u001b[0;34m(\u001b[0m\u001b[0mself\u001b[0m\u001b[0;34m.\u001b[0m\u001b[0mvertex_coords\u001b[0m\u001b[0;34m,\u001b[0m \u001b[0mactive_hinge\u001b[0m\u001b[0;34m,\u001b[0m \u001b[0mself\u001b[0m\u001b[0;34m.\u001b[0m\u001b[0mhinges\u001b[0m\u001b[0;34m,\u001b[0m \u001b[0maffected_children_periphery\u001b[0m\u001b[0;34m,\u001b[0m \u001b[0mdelta_phi\u001b[0m \u001b[0;34m=\u001b[0m \u001b[0mstep_size\u001b[0m\u001b[0;34m)\u001b[0m\u001b[0;34m\u001b[0m\u001b[0;34m\u001b[0m\u001b[0m\n\u001b[1;32m    336\u001b[0m                 \u001b[0;31m#self.update_face_normals()\u001b[0m\u001b[0;34m\u001b[0m\u001b[0;34m\u001b[0m\u001b[0;34m\u001b[0m\u001b[0m\n",
      "\u001b[0;32m~/Nextcloud/Work/W_KU/Fullerene/Thesis_Folding_Carbon/input/../unfolding/functions_folding.py\u001b[0m in \u001b[0;36madd_periphery\u001b[0;34m(affected_children, parent_atom, n_carbon)\u001b[0m\n\u001b[1;32m   1095\u001b[0m \u001b[0;32mdef\u001b[0m \u001b[0madd_periphery\u001b[0m\u001b[0;34m(\u001b[0m\u001b[0maffected_children\u001b[0m\u001b[0;34m,\u001b[0m \u001b[0mparent_atom\u001b[0m\u001b[0;34m,\u001b[0m \u001b[0mn_carbon\u001b[0m\u001b[0;34m)\u001b[0m\u001b[0;34m:\u001b[0m\u001b[0;34m\u001b[0m\u001b[0;34m\u001b[0m\u001b[0m\n\u001b[1;32m   1096\u001b[0m     \u001b[0;31m### This functions takes the affected children list and adds all the periphery atoms to the list in which the parent atoms appear ###\u001b[0m\u001b[0;34m\u001b[0m\u001b[0;34m\u001b[0m\u001b[0;34m\u001b[0m\u001b[0m\n\u001b[0;32m-> 1097\u001b[0;31m     \u001b[0maffected_children_periphery\u001b[0m \u001b[0;34m=\u001b[0m \u001b[0mdeepcopy\u001b[0m\u001b[0;34m(\u001b[0m\u001b[0maffected_children\u001b[0m\u001b[0;34m)\u001b[0m\u001b[0;34m\u001b[0m\u001b[0;34m\u001b[0m\u001b[0m\n\u001b[0m\u001b[1;32m   1098\u001b[0m     \u001b[0;32mfor\u001b[0m \u001b[0mi\u001b[0m \u001b[0;32min\u001b[0m \u001b[0mrange\u001b[0m\u001b[0;34m(\u001b[0m\u001b[0mlen\u001b[0m\u001b[0;34m(\u001b[0m\u001b[0mparent_atom\u001b[0m\u001b[0;34m)\u001b[0m\u001b[0;34m)\u001b[0m\u001b[0;34m:\u001b[0m\u001b[0;34m\u001b[0m\u001b[0;34m\u001b[0m\u001b[0m\n\u001b[1;32m   1099\u001b[0m         \u001b[0;32mfor\u001b[0m \u001b[0mj\u001b[0m \u001b[0;32min\u001b[0m \u001b[0mrange\u001b[0m\u001b[0;34m(\u001b[0m\u001b[0mlen\u001b[0m\u001b[0;34m(\u001b[0m\u001b[0maffected_children\u001b[0m\u001b[0;34m)\u001b[0m\u001b[0;34m)\u001b[0m\u001b[0;34m:\u001b[0m\u001b[0;34m\u001b[0m\u001b[0;34m\u001b[0m\u001b[0m\n",
      "\u001b[0;32m/usr/lib/python3.8/copy.py\u001b[0m in \u001b[0;36mdeepcopy\u001b[0;34m(x, memo, _nil)\u001b[0m\n\u001b[1;32m    144\u001b[0m     \u001b[0mcopier\u001b[0m \u001b[0;34m=\u001b[0m \u001b[0m_deepcopy_dispatch\u001b[0m\u001b[0;34m.\u001b[0m\u001b[0mget\u001b[0m\u001b[0;34m(\u001b[0m\u001b[0mcls\u001b[0m\u001b[0;34m)\u001b[0m\u001b[0;34m\u001b[0m\u001b[0;34m\u001b[0m\u001b[0m\n\u001b[1;32m    145\u001b[0m     \u001b[0;32mif\u001b[0m \u001b[0mcopier\u001b[0m \u001b[0;32mis\u001b[0m \u001b[0;32mnot\u001b[0m \u001b[0;32mNone\u001b[0m\u001b[0;34m:\u001b[0m\u001b[0;34m\u001b[0m\u001b[0;34m\u001b[0m\u001b[0m\n\u001b[0;32m--> 146\u001b[0;31m         \u001b[0my\u001b[0m \u001b[0;34m=\u001b[0m \u001b[0mcopier\u001b[0m\u001b[0;34m(\u001b[0m\u001b[0mx\u001b[0m\u001b[0;34m,\u001b[0m \u001b[0mmemo\u001b[0m\u001b[0;34m)\u001b[0m\u001b[0;34m\u001b[0m\u001b[0;34m\u001b[0m\u001b[0m\n\u001b[0m\u001b[1;32m    147\u001b[0m     \u001b[0;32melse\u001b[0m\u001b[0;34m:\u001b[0m\u001b[0;34m\u001b[0m\u001b[0;34m\u001b[0m\u001b[0m\n\u001b[1;32m    148\u001b[0m         \u001b[0;32mif\u001b[0m \u001b[0missubclass\u001b[0m\u001b[0;34m(\u001b[0m\u001b[0mcls\u001b[0m\u001b[0;34m,\u001b[0m \u001b[0mtype\u001b[0m\u001b[0;34m)\u001b[0m\u001b[0;34m:\u001b[0m\u001b[0;34m\u001b[0m\u001b[0;34m\u001b[0m\u001b[0m\n",
      "\u001b[0;32m/usr/lib/python3.8/copy.py\u001b[0m in \u001b[0;36m_deepcopy_list\u001b[0;34m(x, memo, deepcopy)\u001b[0m\n\u001b[1;32m    203\u001b[0m     \u001b[0mappend\u001b[0m \u001b[0;34m=\u001b[0m \u001b[0my\u001b[0m\u001b[0;34m.\u001b[0m\u001b[0mappend\u001b[0m\u001b[0;34m\u001b[0m\u001b[0;34m\u001b[0m\u001b[0m\n\u001b[1;32m    204\u001b[0m     \u001b[0;32mfor\u001b[0m \u001b[0ma\u001b[0m \u001b[0;32min\u001b[0m \u001b[0mx\u001b[0m\u001b[0;34m:\u001b[0m\u001b[0;34m\u001b[0m\u001b[0;34m\u001b[0m\u001b[0m\n\u001b[0;32m--> 205\u001b[0;31m         \u001b[0mappend\u001b[0m\u001b[0;34m(\u001b[0m\u001b[0mdeepcopy\u001b[0m\u001b[0;34m(\u001b[0m\u001b[0ma\u001b[0m\u001b[0;34m,\u001b[0m \u001b[0mmemo\u001b[0m\u001b[0;34m)\u001b[0m\u001b[0;34m)\u001b[0m\u001b[0;34m\u001b[0m\u001b[0;34m\u001b[0m\u001b[0m\n\u001b[0m\u001b[1;32m    206\u001b[0m     \u001b[0;32mreturn\u001b[0m \u001b[0my\u001b[0m\u001b[0;34m\u001b[0m\u001b[0;34m\u001b[0m\u001b[0m\n\u001b[1;32m    207\u001b[0m \u001b[0md\u001b[0m\u001b[0;34m[\u001b[0m\u001b[0mlist\u001b[0m\u001b[0;34m]\u001b[0m \u001b[0;34m=\u001b[0m \u001b[0m_deepcopy_list\u001b[0m\u001b[0;34m\u001b[0m\u001b[0;34m\u001b[0m\u001b[0m\n",
      "\u001b[0;32m/usr/lib/python3.8/copy.py\u001b[0m in \u001b[0;36mdeepcopy\u001b[0;34m(x, memo, _nil)\u001b[0m\n\u001b[1;32m    144\u001b[0m     \u001b[0mcopier\u001b[0m \u001b[0;34m=\u001b[0m \u001b[0m_deepcopy_dispatch\u001b[0m\u001b[0;34m.\u001b[0m\u001b[0mget\u001b[0m\u001b[0;34m(\u001b[0m\u001b[0mcls\u001b[0m\u001b[0;34m)\u001b[0m\u001b[0;34m\u001b[0m\u001b[0;34m\u001b[0m\u001b[0m\n\u001b[1;32m    145\u001b[0m     \u001b[0;32mif\u001b[0m \u001b[0mcopier\u001b[0m \u001b[0;32mis\u001b[0m \u001b[0;32mnot\u001b[0m \u001b[0;32mNone\u001b[0m\u001b[0;34m:\u001b[0m\u001b[0;34m\u001b[0m\u001b[0;34m\u001b[0m\u001b[0m\n\u001b[0;32m--> 146\u001b[0;31m         \u001b[0my\u001b[0m \u001b[0;34m=\u001b[0m \u001b[0mcopier\u001b[0m\u001b[0;34m(\u001b[0m\u001b[0mx\u001b[0m\u001b[0;34m,\u001b[0m \u001b[0mmemo\u001b[0m\u001b[0;34m)\u001b[0m\u001b[0;34m\u001b[0m\u001b[0;34m\u001b[0m\u001b[0m\n\u001b[0m\u001b[1;32m    147\u001b[0m     \u001b[0;32melse\u001b[0m\u001b[0;34m:\u001b[0m\u001b[0;34m\u001b[0m\u001b[0;34m\u001b[0m\u001b[0m\n\u001b[1;32m    148\u001b[0m         \u001b[0;32mif\u001b[0m \u001b[0missubclass\u001b[0m\u001b[0;34m(\u001b[0m\u001b[0mcls\u001b[0m\u001b[0;34m,\u001b[0m \u001b[0mtype\u001b[0m\u001b[0;34m)\u001b[0m\u001b[0;34m:\u001b[0m\u001b[0;34m\u001b[0m\u001b[0;34m\u001b[0m\u001b[0m\n",
      "\u001b[0;32m/usr/lib/python3.8/copy.py\u001b[0m in \u001b[0;36m_deepcopy_list\u001b[0;34m(x, memo, deepcopy)\u001b[0m\n\u001b[1;32m    202\u001b[0m     \u001b[0mmemo\u001b[0m\u001b[0;34m[\u001b[0m\u001b[0mid\u001b[0m\u001b[0;34m(\u001b[0m\u001b[0mx\u001b[0m\u001b[0;34m)\u001b[0m\u001b[0;34m]\u001b[0m \u001b[0;34m=\u001b[0m \u001b[0my\u001b[0m\u001b[0;34m\u001b[0m\u001b[0;34m\u001b[0m\u001b[0m\n\u001b[1;32m    203\u001b[0m     \u001b[0mappend\u001b[0m \u001b[0;34m=\u001b[0m \u001b[0my\u001b[0m\u001b[0;34m.\u001b[0m\u001b[0mappend\u001b[0m\u001b[0;34m\u001b[0m\u001b[0;34m\u001b[0m\u001b[0m\n\u001b[0;32m--> 204\u001b[0;31m     \u001b[0;32mfor\u001b[0m \u001b[0ma\u001b[0m \u001b[0;32min\u001b[0m \u001b[0mx\u001b[0m\u001b[0;34m:\u001b[0m\u001b[0;34m\u001b[0m\u001b[0;34m\u001b[0m\u001b[0m\n\u001b[0m\u001b[1;32m    205\u001b[0m         \u001b[0mappend\u001b[0m\u001b[0;34m(\u001b[0m\u001b[0mdeepcopy\u001b[0m\u001b[0;34m(\u001b[0m\u001b[0ma\u001b[0m\u001b[0;34m,\u001b[0m \u001b[0mmemo\u001b[0m\u001b[0;34m)\u001b[0m\u001b[0;34m)\u001b[0m\u001b[0;34m\u001b[0m\u001b[0;34m\u001b[0m\u001b[0m\n\u001b[1;32m    206\u001b[0m     \u001b[0;32mreturn\u001b[0m \u001b[0my\u001b[0m\u001b[0;34m\u001b[0m\u001b[0;34m\u001b[0m\u001b[0m\n",
      "\u001b[0;31mKeyboardInterrupt\u001b[0m: "
     ]
    }
   ],
   "source": [
    "sample_unfolding(C60,halogen=1)"
   ]
  },
  {
   "cell_type": "code",
   "execution_count": null,
   "metadata": {},
   "outputs": [],
   "source": []
  }
 ],
 "metadata": {
  "kernelspec": {
   "display_name": "Python 3",
   "language": "python",
   "name": "python3"
  },
  "language_info": {
   "codemirror_mode": {
    "name": "ipython",
    "version": 3
   },
   "file_extension": ".py",
   "mimetype": "text/x-python",
   "name": "python",
   "nbconvert_exporter": "python",
   "pygments_lexer": "ipython3",
   "version": "3.8.10"
  }
 },
 "nbformat": 4,
 "nbformat_minor": 2
}
