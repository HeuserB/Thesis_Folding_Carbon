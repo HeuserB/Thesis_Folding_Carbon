{
 "cells": [
  {
   "cell_type": "code",
   "execution_count": 1,
   "metadata": {},
   "outputs": [],
   "source": [
    "import sys\n",
    "import matplotlib.pyplot as plt\n",
    "\n",
    "\n",
    "#sys.path.append(\"../C_20_data\")\n",
    "#sys.path.append(\"../thesis-carbon-folding/Unfolding\")\n",
    "#sys.path.append(\"../thesis-carbon-folding/functions\")\n",
    "#sys.path.append(\"../thesis-carbon-folding/Unfolding/Application_functions\")\n",
    "#sys.path.append(\"../data/\")\n",
    "sys.path.append(\"../unfolding/\")\n",
    "\n",
    "from Application_functions import read_unfolding\n",
    "from read_geometries import read_geometry\n",
    "from geometry_functions import *\n",
    "\n",
    "dual_unfolding, graph_unfolding, graph_unfolding_faces, vertices_final, bonds_toBe, lengths_toBe, angles_f, opt_geom, halogen_positions, neighbours, graph_faces = read_unfolding(\"../data/unfolding_graph/C60data.h5\")\n",
    "#halogene_positions = np.array([20, 27, 34])\n",
    "from Unfolding_new import Unfolding\n",
    "from functions_folding import *\n",
    "from interpolation import interpolated_values\n",
    "import pandas as pd\n",
    "import h5py\n",
    "\n",
    "f = open(\"../data/header/header_cam-b3lyp\", \"r\")\n",
    "header_cam_b3lyp = f.read()\n",
    "f.close()"
   ]
  },
  {
   "cell_type": "code",
   "execution_count": 2,
   "metadata": {},
   "outputs": [],
   "source": [
    "def three_dist(unfolding):\n",
    "    dist_a, dist_b, dist_c = np.linalg.norm(C60.vertex_coords[15] - C60.vertex_coords[35]) , np.linalg.norm(C60.vertex_coords[21] - C60.vertex_coords[22]), np.linalg.norm(C60.vertex_coords[28] - C60.vertex_coords[29])  \n",
    "    mean_dist = np.mean([dist_a,dist_b,dist_c])\n",
    "    return np.round(mean_dist,3)"
   ]
  },
  {
   "cell_type": "code",
   "execution_count": 3,
   "metadata": {},
   "outputs": [],
   "source": [
    "def sample_unfolding(unfolding, title_body=\"../C60_hinge_0_B3LYP\", header=header_cam_b3lyp , start=1.8, end=1.5, step = 0.05, epsilon=0.001,halogen=0):\n",
    "    sample_r = np.flip(np.arange(end, start, step))\n",
    "    ### Set the atoms that should be frozen ###\n",
    "    freeze_list = [15,21,22,28,29,35]\n",
    "    ### Set the carbon atoms where the halogens should be placed ###\n",
    "    atoms = [35, 15, 21, 22, 28, 29, 51, 19, 55, 26, 59, 33, 34, 36, 20, 40, 27, 44]\n",
    "    dist = three_dist(unfolding)\n",
    "    title = \"../\" + title_body + \"_\" + str(dist) +\"A\"\n",
    "    write_gaussfile_restart(unfolding, header, freeze=True, connectivity=False, writeFile=True, rotate=True, atoms=atoms, filename = title , freezelist = freeze_list, halogen=halogen, interpolated_angles=interpolated_values)\n",
    "    for _ in range(unfolding.num_of_steps):\n",
    "        unfolding.close_unfolding()\n",
    "        dist = three_dist(unfolding)\n",
    "        if np.linalg.norm(dist - sample_r[0]) < epsilon:\n",
    "            sample_r = np.delete(sample_r,0)\n",
    "            title = title_body + \"_\" + str(dist) +\"A\"\n",
    "            write_gaussfile_restart(unfolding, header, freeze=True, connectivity=False, writeFile=True, rotate=True, atoms=atoms, filename = title , freezelist = freeze_list, halogen=halogen, interpolated_angles=interpolated_values)\n",
    "            if len(sample_r) == 0:\n",
    "                return"
   ]
  },
  {
   "cell_type": "code",
   "execution_count": 4,
   "metadata": {},
   "outputs": [],
   "source": [
    "### Init unfolding and set the number of steps in which the angles are to be closed ###\n",
    "C60 = Unfolding(dual_unfolding, graph_unfolding_faces, graph_faces, graph_unfolding, neighbours, halogen_positions=halogen_positions, root_node=0, bonds_toBe=bonds_toBe, angles_f=angles_f)\n",
    "C60.num_of_steps = 20000"
   ]
  },
  {
   "cell_type": "code",
   "execution_count": 5,
   "metadata": {},
   "outputs": [],
   "source": [
    "sample_unfolding(C60,halogen=1)"
   ]
  },
  {
   "cell_type": "code",
   "execution_count": null,
   "metadata": {},
   "outputs": [],
   "source": []
  }
 ],
 "metadata": {
  "kernelspec": {
   "display_name": "Python 3",
   "language": "python",
   "name": "python3"
  },
  "language_info": {
   "codemirror_mode": {
    "name": "ipython",
    "version": 3
   },
   "file_extension": ".py",
   "mimetype": "text/x-python",
   "name": "python",
   "nbconvert_exporter": "python",
   "pygments_lexer": "ipython3",
   "version": "3.6.9"
  }
 },
 "nbformat": 4,
 "nbformat_minor": 2
}
