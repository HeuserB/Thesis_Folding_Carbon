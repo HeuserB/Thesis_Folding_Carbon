{
 "cells": [
  {
   "cell_type": "code",
   "execution_count": 1,
   "metadata": {},
   "outputs": [],
   "source": [
    "import sys\n",
    "import numpy as np\n",
    "import matplotlib.pyplot as plt"
   ]
  },
  {
   "cell_type": "code",
   "execution_count": 2,
   "metadata": {},
   "outputs": [],
   "source": [
    "sys.path.append('unfolding/')\n",
    "from Application_functions import *\n",
    "from functions_folding import *\n",
    "#from Unfolding import *\n",
    "\n",
    "bond_angles = np.radians(np.array([108.,120.]))\n",
    "bonding_lengths = np.array([1.458,1.401])"
   ]
  },
  {
   "cell_type": "code",
   "execution_count": 3,
   "metadata": {},
   "outputs": [],
   "source": [
    "dual_unfolding, graph_unfolding, graph_unfolding_faces, vertices_final, bonds_toBe, lengths_toBe, angles_f, opt_geom, halogen_positions, neighbours, graph_faces = read_unfolding('data/unfolding_graph/C60data.h5')"
   ]
  },
  {
   "cell_type": "code",
   "execution_count": 4,
   "metadata": {},
   "outputs": [
    {
     "name": "stdout",
     "output_type": "stream",
     "text": [
      "The intersection of the two faces are: {0, 1}\n",
      "The intersection of the two faces are: {2, 3}\n",
      "The intersection of the two faces are: {4, 5}\n",
      "The intersection of the two faces are: {6, 7}\n",
      "The intersection of the two faces are: {8, 7}\n",
      "The intersection of the two faces are: {9, 10}\n",
      "The intersection of the two faces are: {10, 11}\n",
      "The intersection of the two faces are: {12, 13}\n",
      "The intersection of the two faces are: {13, 14}\n",
      "The intersection of the two faces are: {16, 17}\n",
      "The intersection of the two faces are: {24, 23}\n",
      "The intersection of the two faces are: {30, 31}\n",
      "The intersection of the two faces are: {38, 39}\n",
      "The intersection of the two faces are: {42, 43}\n",
      "The intersection of the two faces are: {46, 47}\n"
     ]
    }
   ],
   "source": [
    "[tree, affected_vertices, hinges, connected_hinges] = hinges_traversed(dual_unfolding, graph_unfolding_faces, 0)"
   ]
  },
  {
   "cell_type": "code",
   "execution_count": 5,
   "metadata": {},
   "outputs": [
    {
     "name": "stdout",
     "output_type": "stream",
     "text": [
      "root_node = 0, root_face = [0, 1, 2, 3, 4, 5]\n",
      "The intersection of the two faces are: {0, 1}\n",
      "The intersection of the two faces are: {2, 3}\n",
      "The intersection of the two faces are: {4, 5}\n",
      "The intersection of the two faces are: {6, 7}\n",
      "The intersection of the two faces are: {8, 7}\n",
      "The intersection of the two faces are: {9, 10}\n",
      "The intersection of the two faces are: {10, 11}\n",
      "The intersection of the two faces are: {12, 13}\n",
      "The intersection of the two faces are: {13, 14}\n",
      "The intersection of the two faces are: {16, 17}\n",
      "The intersection of the two faces are: {24, 23}\n",
      "The intersection of the two faces are: {30, 31}\n",
      "The intersection of the two faces are: {38, 39}\n",
      "The intersection of the two faces are: {42, 43}\n",
      "The intersection of the two faces are: {46, 47}\n",
      "dual hinges:  [[0, 1], [0, 2], [0, 3], [1, 4], [1, 5], [2, 6], [2, 7], [3, 8], [3, 9], [4, 10], [6, 11], [8, 12], [10, 13], [11, 14], [12, 15]]\n",
      "cubic hinges: [[0, 1], [2, 3], [4, 5], [6, 7], [7, 8], [9, 10], [10, 11], [12, 13], [13, 14], [16, 17], [23, 24], [30, 31], [38, 39], [42, 43], [46, 47]]\n",
      "\n",
      "hinges[0]: [[0, 1], [0, 2], [0, 3], [1, 4], [1, 5], [2, 6], [2, 7], [3, 8], [3, 9], [4, 10], [6, 11], [8, 12], [10, 13], [11, 14], [12, 15]] \n",
      "hinges[1]: [[0, 1], [2, 3], [4, 5], [6, 7], [7, 8], [9, 10], [10, 11], [12, 13], [13, 14], [16, 17], [23, 24], [30, 31], [38, 39], [42, 43], [46, 47]]\n",
      "hinges[0]: [[0, 1], [0, 2], [0, 3], [1, 4], [1, 5], [2, 6], [2, 7], [3, 8], [3, 9], [4, 10], [6, 11], [8, 12], [10, 13], [11, 14], [12, 15]] \n",
      "hinges[1]: [[0, 1], [2, 3], [4, 5], [6, 7], [7, 8], [9, 10], [10, 11], [12, 13], [13, 14], [16, 17], [23, 24], [30, 31], [38, 39], [42, 43], [46, 47]]\n",
      "hinges[0]: [[0, 1], [0, 2], [0, 3], [1, 4], [1, 5], [2, 6], [2, 7], [3, 8], [3, 9], [4, 10], [6, 11], [8, 12], [10, 13], [11, 14], [12, 15]] \n",
      "hinges[1]: [[0, 1], [2, 3], [4, 5], [6, 7], [7, 8], [9, 10], [10, 11], [12, 13], [13, 14], [16, 17], [23, 24], [30, 31], [38, 39], [42, 43], [46, 47]]\n",
      "hinges[0]: [[0, 1], [0, 2], [0, 3], [1, 4], [1, 5], [2, 6], [2, 7], [3, 8], [3, 9], [4, 10], [6, 11], [8, 12], [10, 13], [11, 14], [12, 15]] \n",
      "hinges[1]: [[0, 1], [2, 3], [4, 5], [6, 7], [7, 8], [9, 10], [10, 11], [12, 13], [13, 14], [16, 17], [23, 24], [30, 31], [38, 39], [42, 43], [46, 47]]\n",
      "hinges[0]: [[0, 1], [0, 2], [0, 3], [1, 4], [1, 5], [2, 6], [2, 7], [3, 8], [3, 9], [4, 10], [6, 11], [8, 12], [10, 13], [11, 14], [12, 15]] \n",
      "hinges[1]: [[0, 1], [2, 3], [4, 5], [6, 7], [7, 8], [9, 10], [10, 11], [12, 13], [13, 14], [16, 17], [23, 24], [30, 31], [38, 39], [42, 43], [46, 47]]\n",
      "hinges[0]: [[0, 1], [0, 2], [0, 3], [1, 4], [1, 5], [2, 6], [2, 7], [3, 8], [3, 9], [4, 10], [6, 11], [8, 12], [10, 13], [11, 14], [12, 15]] \n",
      "hinges[1]: [[0, 1], [2, 3], [4, 5], [6, 7], [7, 8], [9, 10], [10, 11], [12, 13], [13, 14], [16, 17], [23, 24], [30, 31], [38, 39], [42, 43], [46, 47]]\n",
      "hinges[0]: [[0, 1], [0, 2], [0, 3], [1, 4], [1, 5], [2, 6], [2, 7], [3, 8], [3, 9], [4, 10], [6, 11], [8, 12], [10, 13], [11, 14], [12, 15]] \n",
      "hinges[1]: [[0, 1], [2, 3], [4, 5], [6, 7], [7, 8], [9, 10], [10, 11], [12, 13], [13, 14], [16, 17], [23, 24], [30, 31], [38, 39], [42, 43], [46, 47]]\n",
      "hinges[0]: [[0, 1], [0, 2], [0, 3], [1, 4], [1, 5], [2, 6], [2, 7], [3, 8], [3, 9], [4, 10], [6, 11], [8, 12], [10, 13], [11, 14], [12, 15]] \n",
      "hinges[1]: [[0, 1], [2, 3], [4, 5], [6, 7], [7, 8], [9, 10], [10, 11], [12, 13], [13, 14], [16, 17], [23, 24], [30, 31], [38, 39], [42, 43], [46, 47]]\n",
      "hinges[0]: [[0, 1], [0, 2], [0, 3], [1, 4], [1, 5], [2, 6], [2, 7], [3, 8], [3, 9], [4, 10], [6, 11], [8, 12], [10, 13], [11, 14], [12, 15]] \n",
      "hinges[1]: [[0, 1], [2, 3], [4, 5], [6, 7], [7, 8], [9, 10], [10, 11], [12, 13], [13, 14], [16, 17], [23, 24], [30, 31], [38, 39], [42, 43], [46, 47]]\n",
      "hinges[0]: [[0, 1], [0, 2], [0, 3], [1, 4], [1, 5], [2, 6], [2, 7], [3, 8], [3, 9], [4, 10], [6, 11], [8, 12], [10, 13], [11, 14], [12, 15]] \n",
      "hinges[1]: [[0, 1], [2, 3], [4, 5], [6, 7], [7, 8], [9, 10], [10, 11], [12, 13], [13, 14], [16, 17], [23, 24], [30, 31], [38, 39], [42, 43], [46, 47]]\n",
      "hinges[0]: [[0, 1], [0, 2], [0, 3], [1, 4], [1, 5], [2, 6], [2, 7], [3, 8], [3, 9], [4, 10], [6, 11], [8, 12], [10, 13], [11, 14], [12, 15]] \n",
      "hinges[1]: [[0, 1], [2, 3], [4, 5], [6, 7], [7, 8], [9, 10], [10, 11], [12, 13], [13, 14], [16, 17], [23, 24], [30, 31], [38, 39], [42, 43], [46, 47]]\n",
      "hinges[0]: [[0, 1], [0, 2], [0, 3], [1, 4], [1, 5], [2, 6], [2, 7], [3, 8], [3, 9], [4, 10], [6, 11], [8, 12], [10, 13], [11, 14], [12, 15]] \n",
      "hinges[1]: [[0, 1], [2, 3], [4, 5], [6, 7], [7, 8], [9, 10], [10, 11], [12, 13], [13, 14], [16, 17], [23, 24], [30, 31], [38, 39], [42, 43], [46, 47]]\n",
      "hinges[0]: [[0, 1], [0, 2], [0, 3], [1, 4], [1, 5], [2, 6], [2, 7], [3, 8], [3, 9], [4, 10], [6, 11], [8, 12], [10, 13], [11, 14], [12, 15]] \n",
      "hinges[1]: [[0, 1], [2, 3], [4, 5], [6, 7], [7, 8], [9, 10], [10, 11], [12, 13], [13, 14], [16, 17], [23, 24], [30, 31], [38, 39], [42, 43], [46, 47]]\n",
      "hinges[0]: [[0, 1], [0, 2], [0, 3], [1, 4], [1, 5], [2, 6], [2, 7], [3, 8], [3, 9], [4, 10], [6, 11], [8, 12], [10, 13], [11, 14], [12, 15]] \n",
      "hinges[1]: [[0, 1], [2, 3], [4, 5], [6, 7], [7, 8], [9, 10], [10, 11], [12, 13], [13, 14], [16, 17], [23, 24], [30, 31], [38, 39], [42, 43], [46, 47]]\n",
      "hinges[0]: [[0, 1], [0, 2], [0, 3], [1, 4], [1, 5], [2, 6], [2, 7], [3, 8], [3, 9], [4, 10], [6, 11], [8, 12], [10, 13], [11, 14], [12, 15]] \n",
      "hinges[1]: [[0, 1], [2, 3], [4, 5], [6, 7], [7, 8], [9, 10], [10, 11], [12, 13], [13, 14], [16, 17], [23, 24], [30, 31], [38, 39], [42, 43], [46, 47]]\n"
     ]
    }
   ],
   "source": [
    "dual_planar = draw_vertices_unfolding(dual_unfolding, graph_faces, 0, bond_angles, bonding_lengths)"
   ]
  },
  {
   "cell_type": "code",
   "execution_count": 6,
   "metadata": {},
   "outputs": [],
   "source": [
    "#C60 = Unfolding(dual_unfolding, graph_unfolding_faces, graph_faces, graph_unfolding, neighbours, halogen_positions=halogen_positions, root_node=0, bonds_toBe=bonds_toBe, angles_f=angles_f)"
   ]
  },
  {
   "cell_type": "code",
   "execution_count": 7,
   "metadata": {},
   "outputs": [],
   "source": [
    "#plot_graph(C60);"
   ]
  },
  {
   "cell_type": "code",
   "execution_count": 8,
   "metadata": {},
   "outputs": [
    {
     "data": {
      "text/plain": [
       "<matplotlib.collections.PathCollection at 0x7f4d13f08970>"
      ]
     },
     "execution_count": 8,
     "metadata": {},
     "output_type": "execute_result"
    },
    {
     "data": {
      "image/png": "[encoded data removed]",
      "text/plain": [
       "<Figure size 432x288 with 1 Axes>"
      ]
     },
     "metadata": {
      "needs_background": "light"
     },
     "output_type": "display_data"
    }
   ],
   "source": [
    "plt.scatter(dual_planar[:,0],dual_planar[:,1])"
   ]
  },
  {
   "cell_type": "code",
   "execution_count": null,
   "metadata": {},
   "outputs": [],
   "source": []
  }
 ],
 "metadata": {
  "kernelspec": {
   "display_name": "Python 3",
   "language": "python",
   "name": "python3"
  },
  "language_info": {
   "codemirror_mode": {
    "name": "ipython",
    "version": 3
   },
   "file_extension": ".py",
   "mimetype": "text/x-python",
   "name": "python",
   "nbconvert_exporter": "python",
   "pygments_lexer": "ipython3",
   "version": "3.8.10"
  }
 },
 "nbformat": 4,
 "nbformat_minor": 4
}
