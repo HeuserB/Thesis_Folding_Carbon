{
 "cells": [
  {
   "cell_type": "code",
   "execution_count": 1,
   "metadata": {},
   "outputs": [],
   "source": [
    "import sys\n",
    "import numpy as np\n",
    "import matplotlib.pyplot as plt"
   ]
  },
  {
   "cell_type": "code",
   "execution_count": 2,
   "metadata": {},
   "outputs": [],
   "source": [
    "sys.path.append('unfolding/')\n",
    "from Application_functions import *\n",
    "from geometry_functions import *\n",
    "from functions_folding import *\n",
    "\n",
    "#from Unfolding import *\n",
    "\n",
    "bond_angles = np.radians(np.array([108.,120.]))\n",
    "bonding_lengths = np.array([1.458,1.401])"
   ]
  },
  {
   "cell_type": "code",
   "execution_count": 3,
   "metadata": {},
   "outputs": [],
   "source": [
    "#[tree, affected_vertices, hinges, connected_hinges] = hinges_traversed(dual_unfolding, graph_unfolding_faces, 0)"
   ]
  },
  {
   "cell_type": "code",
   "execution_count": 4,
   "metadata": {},
   "outputs": [],
   "source": [
    "#dual_planar = draw_vertices_unfolding(dual_unfolding, graph_faces, 0, bond_angles, bonding_lengths)"
   ]
  },
  {
   "cell_type": "code",
   "execution_count": 5,
   "metadata": {},
   "outputs": [],
   "source": [
    "#C60 = Unfolding(dual_unfolding, graph_unfolding_faces, graph_faces, graph_unfolding, neighbours, halogen_positions=halogen_positions, root_node=0, bonds_toBe=bonds_toBe, angles_f=angles_f)"
   ]
  },
  {
   "cell_type": "code",
   "execution_count": 6,
   "metadata": {},
   "outputs": [],
   "source": [
    "#plot_graph(C60);"
   ]
  },
  {
   "cell_type": "code",
   "execution_count": 7,
   "metadata": {},
   "outputs": [],
   "source": [
    "#from Unfolding import *\n",
    "#Unfolding()\n",
    "#dual_unfolding, graph_unfolding_faces, graph_faces, graph_unfolding, graph, halogen_positions, root_node, bonds_toBe, angles_f"
   ]
  },
  {
   "cell_type": "code",
   "execution_count": 8,
   "metadata": {},
   "outputs": [],
   "source": [
    "graph       = [[1,4],[0,2],[5,3,1],[2,8,4],[3,11,0],[6,2],[7,5],[8,6],[9,3,7],[10,8],[8,11],[10,4]]\n",
    "dual_graph  = [[1,2],[0,2],[0,1]]\n",
    "faces       = [[1,2,3,4,0],[2,5,6,7,8,3],[3,8,9,10,11,4]] "
   ]
  },
  {
   "cell_type": "code",
   "execution_count": 9,
   "metadata": {},
   "outputs": [
    {
     "name": "stdout",
     "output_type": "stream",
     "text": [
      "root_node = 0, root_face = [1, 2, 3, 4, 0]\n",
      "The intersection of the two faces are: {2, 3}\n",
      "The intersection of the two faces are: {3, 4}\n",
      "dual hinges:  [[0, 1], [0, 2]]\n",
      "cubic hinges: [[2, 3], [3, 4]]\n",
      "\n",
      "hinges[0]: [[0, 1], [0, 2]] \n",
      "hinges[1]: [[2, 3], [3, 4]]\n",
      "hinges[0]: [[0, 1], [0, 2]] \n",
      "hinges[1]: [[2, 3], [3, 4]]\n"
     ]
    },
    {
     "data": {
      "text/plain": [
       "<matplotlib.collections.PathCollection at 0x7f306442cfd0>"
      ]
     },
     "execution_count": 9,
     "metadata": {},
     "output_type": "execute_result"
    },
    {
     "data": {
      "image/png": "[encoded data removed]",
      "text/plain": [
       "<Figure size 432x288 with 1 Axes>"
      ]
     },
     "metadata": {
      "needs_background": "light"
     },
     "output_type": "display_data"
    }
   ],
   "source": [
    "dual_planar = draw_vertices_unfolding(dual_graph, faces, 0, bond_angles, bonding_lengths)\n",
    "plt.scatter(dual_planar[:,0],dual_planar[:,1])"
   ]
  },
  {
   "cell_type": "code",
   "execution_count": 10,
   "metadata": {},
   "outputs": [],
   "source": [
    "def unit(a):\n",
    "    return a / np.sqrt(np.sum(a**2))"
   ]
  },
  {
   "cell_type": "code",
   "execution_count": 11,
   "metadata": {},
   "outputs": [],
   "source": [
    "def orient_axis(X):\n",
    "    CD      = (dual_planar[4] - dual_planar[3]).reshape(3,1)\n",
    "    e1      = np.array([1,0,0]).reshape(3,1)\n",
    "    e2      = np.array([0,1,0]).reshape(3,1)\n",
    "    e3      = np.array([0,0,1]).reshape(3,1)\n",
    "\n",
    "    c3      = unit(CD)@e3.T\n",
    "    c1      = (e1 - unit(CD)@(unit(CD).T@e1))@e1.T\n",
    "    c2      = np.cross(unit(CD).reshape(3),unit((e1 - CD.T@e1).reshape(3))).reshape(3,1)@e2.T\n",
    "    M       = c1 + c2 + c3\n",
    "    dual_planar_transformed = np.array([M.T@i for i in dual_planar])\n",
    "    return dual_planar_transformed"
   ]
  },
  {
   "cell_type": "code",
   "execution_count": 12,
   "metadata": {},
   "outputs": [],
   "source": [
    "def rotate(X, axis, alpha):   \n",
    "    # calculate all connecting vectors in the reference frame of the rotational axis\n",
    "    origin = X[axis[0]]\n",
    "    affected = [5,6,7,8]\n",
    "    reference_vertices = X[affected] - origin\n",
    "    \n",
    "    # calculate the rotational axis\n",
    "    rot_axis =  X[axis[1]] - X[axis[0]]\n",
    "    \n",
    "    # caluculate the rotational matrix\n",
    "    rot_matrix = rotation_matrix(rot_axis, alpha)\n",
    "    \n",
    "    #rotate and update the 3D coordinates\n",
    "    new_vertices =  np.dot(rot_matrix,reference_vertices.T).T\n",
    "    X[affected] = origin + new_vertices\n",
    "    return X\n",
    "    "
   ]
  },
  {
   "cell_type": "code",
   "execution_count": null,
   "metadata": {},
   "outputs": [],
   "source": [
    "def center_at(X,center_point=3):\n",
    "    X -= X[center_point]\n",
    "    return X"
   ]
  },
  {
   "cell_type": "code",
   "execution_count": null,
   "metadata": {},
   "outputs": [],
   "source": [
    "def solve_system(X,b_old):\n"
   ]
  },
  {
   "cell_type": "code",
   "execution_count": null,
   "metadata": {},
   "outputs": [],
   "source": [
    "def calculate_rotation(X,alpha):\n",
    "    X           = center_at(X)\n",
    "    X_new       = orient_axis(X)\n",
    "    C_reference = np.copy(X_new[3])\n",
    "\n",
    "    X_rotated   = rotate(X_new,[2,3],alpha)\n",
    "    C_new       = X_rotated[3]\n",
    "    if np.abs(C_new[3] - C_reference[3]) > 1e-6:\n",
    "        print(f'Z components of the two differ by: {np.abs(C_new[3] - C_reference[3])}')\n",
    "    sin_alpha   =  (c_new[3] - ) / () \n",
    "    cos_alpha   ="
   ]
  },
  {
   "cell_type": "code",
   "execution_count": 13,
   "metadata": {},
   "outputs": [
    {
     "data": {
      "text/plain": [
       "array([[-7.29000000e-01,  1.00338242e+00,  0.00000000e+00],\n",
       "       [ 7.29000000e-01,  1.00338242e+00,  0.00000000e+00],\n",
       "       [ 1.17954678e+00, -3.83257981e-01,  0.00000000e+00],\n",
       "       [ 6.66133815e-16, -1.24024888e+00,  0.00000000e+00],\n",
       "       [-1.17954678e+00, -3.83257981e-01,  0.00000000e+00],\n",
       "       [ 1.74626318e+00,  2.84855885e-02,  1.21330159e+00],\n",
       "       [ 1.17954678e+00, -3.83257981e-01,  2.42660318e+00],\n",
       "       [ 4.61139687e-02, -1.20674512e+00,  2.42660318e+00],\n",
       "       [-7.58414583e-01, -1.79126933e+00,  1.04114590e+00],\n",
       "       [-1.42632156e+00, -3.20341209e+00,  0.00000000e+00],\n",
       "       [-2.55975437e+00, -2.37992495e+00,  0.00000000e+00],\n",
       "       [-2.41331000e+00, -9.86599777e-01,  0.00000000e+00]])"
      ]
     },
     "execution_count": 13,
     "metadata": {},
     "output_type": "execute_result"
    }
   ],
   "source": [
    "rotate(dual_planar,[2,3],np.deg2rad(90))"
   ]
  },
  {
   "cell_type": "code",
   "execution_count": 18,
   "metadata": {},
   "outputs": [
    {
     "name": "stdout",
     "output_type": "stream",
     "text": [
      "Using matplotlib backend: Qt5Agg\n"
     ]
    },
    {
     "data": {
      "text/plain": [
       "<mpl_toolkits.mplot3d.art3d.Path3DCollection at 0x7f303c015490>"
      ]
     },
     "execution_count": 18,
     "metadata": {},
     "output_type": "execute_result"
    }
   ],
   "source": [
    "%matplotlib\n",
    "fig = plt.figure()\n",
    "ax = fig.add_subplot(projection='3d')\n",
    "ax.scatter(dual_planar[:,0],dual_planar[:,1],dual_planar[:,2])"
   ]
  },
  {
   "cell_type": "code",
   "execution_count": 15,
   "metadata": {},
   "outputs": [],
   "source": [
    "AC      = (dual_planar[3] - dual_planar[2]).reshape(3,1)\n",
    "e1      = np.array([1,0,0]).reshape(3,1)\n",
    "e2      = np.array([0,1,0]).reshape(3,1)\n",
    "e3      = np.array([0,0,1]).reshape(3,1)\n",
    "\n",
    "c3      = unit(AC)@e3.T\n",
    "c1      = (e1 - unit(AC)@(unit(AC).T@e1))@e1.T\n",
    "c2      = np.cross(unit(AC).reshape(3),unit((e1 - AC.T@e1).reshape(3))).reshape(3,1)@e2.T\n",
    "M       = c1 + c2 + c3"
   ]
  },
  {
   "cell_type": "code",
   "execution_count": 16,
   "metadata": {},
   "outputs": [],
   "source": [
    "dual_planar_transformed = np.array([M.T@i for i in dual_planar])"
   ]
  },
  {
   "cell_type": "code",
   "execution_count": 17,
   "metadata": {},
   "outputs": [
    {
     "data": {
      "text/plain": [
       "array([[-7.29000000e-01,  5.33012713e-01, -1.11022302e-16],\n",
       "       [-2.25273389e-01,  1.64709986e-01, -1.17954678e+00],\n",
       "       [ 5.89773389e-01, -4.31216343e-01, -7.29000000e-01],\n",
       "       [ 5.89773389e-01, -4.31216343e-01,  7.29000000e-01],\n",
       "       [-2.25273389e-01,  1.64709986e-01,  1.17954678e+00],\n",
       "       [ 5.89773389e-01, -2.86736594e-01, -1.42950000e+00],\n",
       "       [ 5.89773389e-01, -1.42256844e-01, -7.29000000e-01],\n",
       "       [ 5.89773389e-01, -1.42256844e-01,  6.72000000e-01],\n",
       "       [ 5.89773389e-01, -3.07236864e-01,  1.66645198e+00],\n",
       "       [ 1.03053099e+00, -7.53478902e-01,  3.03683677e+00],\n",
       "       [ 2.47348182e-01, -1.80850104e-01,  3.46976958e+00],\n",
       "       [-3.64622024e-01,  2.66595575e-01,  2.53231760e+00]])"
      ]
     },
     "execution_count": 17,
     "metadata": {},
     "output_type": "execute_result"
    }
   ],
   "source": [
    "dual_planar_transformed"
   ]
  },
  {
   "cell_type": "code",
   "execution_count": 32,
   "metadata": {},
   "outputs": [],
   "source": [
    "rot_matrix      = rotation_matrix(np.array([0.,0.,1.]), np.pi*2./3.)\n",
    "\n",
    "l               = 1.\n",
    "tetrahedron     = np.array([[0.,0.,0.]])\n",
    "tetrahedron     = np.vstack([tetrahedron,tetrahedron[0] - np.array([1.,0,0])*l])\n",
    "tetrahedron     = np.vstack([tetrahedron,rot_matrix@tetrahedron[1]])\n",
    "tetrahedron     = np.vstack([tetrahedron,rot_matrix@tetrahedron[2]])\n",
    "\n"
   ]
  },
  {
   "cell_type": "code",
   "execution_count": null,
   "metadata": {},
   "outputs": [],
   "source": [
    "def rotate(X, rot_axis, alpha):   \n",
    "    # calculate all connecting vectors in the reference frame of the rotational axis\n",
    "    reference_vertices = X[affected] - origin\n",
    "    \n",
    "    # calculate the rotational axis\n",
    "    rot_axis =  X[axis[1]] - X[axis[0]]\n",
    "    \n",
    "    # caluculate the rotational matrix\n",
    "    rot_matrix = rotation_matrix(rot_axis, alpha)\n",
    "    \n",
    "    #rotate and update the 3D coordinates\n",
    "    new_vertices =  np.dot(rot_matrix,reference_vertices.T).T\n",
    "    X[affected] = origin + new_vertices\n",
    "    return X"
   ]
  },
  {
   "cell_type": "code",
   "execution_count": 34,
   "metadata": {},
   "outputs": [
    {
     "name": "stdout",
     "output_type": "stream",
     "text": [
      "Using matplotlib backend: Qt5Agg\n"
     ]
    },
    {
     "data": {
      "text/plain": [
       "<mpl_toolkits.mplot3d.art3d.Path3DCollection at 0x7f3006660490>"
      ]
     },
     "execution_count": 34,
     "metadata": {},
     "output_type": "execute_result"
    }
   ],
   "source": [
    "%matplotlib\n",
    "fig = plt.figure()\n",
    "ax = fig.add_subplot(projection='3d')\n",
    "ax.scatter(tetrahedron[:,0],tetrahedron[:,1],tetrahedron[:,2])"
   ]
  },
  {
   "cell_type": "code",
   "execution_count": 35,
   "metadata": {},
   "outputs": [
    {
     "data": {
      "text/plain": [
       "array([[ 0.       ,  0.       ,  0.       ],\n",
       "       [-1.       ,  0.       ,  0.       ],\n",
       "       [ 0.5      , -0.8660254,  0.       ],\n",
       "       [ 0.5      ,  0.8660254,  0.       ]])"
      ]
     },
     "execution_count": 35,
     "metadata": {},
     "output_type": "execute_result"
    }
   ],
   "source": [
    "tetrahedron[2]  "
   ]
  },
  {
   "cell_type": "code",
   "execution_count": null,
   "metadata": {},
   "outputs": [],
   "source": []
  }
 ],
 "metadata": {
  "kernelspec": {
   "display_name": "Python 3",
   "language": "python",
   "name": "python3"
  },
  "language_info": {
   "codemirror_mode": {
    "name": "ipython",
    "version": 3
   },
   "file_extension": ".py",
   "mimetype": "text/x-python",
   "name": "python",
   "nbconvert_exporter": "python",
   "pygments_lexer": "ipython3",
   "version": "3.8.10"
  }
 },
 "nbformat": 4,
 "nbformat_minor": 4
}
